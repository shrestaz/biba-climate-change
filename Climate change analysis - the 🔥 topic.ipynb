{
 "cells": [
  {
   "cell_type": "markdown",
   "metadata": {},
   "source": [
    "# <img style=\"float: left;\"  src=\"https://ruc.dk/sites/default/files/2017-05/ruc_logo_download_en.png\" width=600px>\n",
    "\n",
    "<br><br><br><br><br><br><br>\n",
    "\n",
    "# <span style=\"text-align: center\"><h1>Climate change analysis - the 🔥 topic</h1></span>\n",
    "<br><br>\n",
    "<img src=\"https://cdn.downtoearth.org.in/library/large/2018-12-11/0.18534100_1544525580_climate.jpg\" width=500px>\n",
    "<br><br><br><br><br><br><br>\n",
    "\n",
    "# <span style=\"text-align: center\"><h3>Business Intelligence and Big Data</h3></span>\n",
    "\n",
    "<br><br>\n",
    "\n",
    "<div style=\"text-align: center\"><h2>An exploratory analysis by:</h2></div>\n",
    "<span style=\"text-align: center\"><h2>Manish Shrestha</h2></span>\n",
    "\n",
    "<br><br><br><br><br>\n",
    "\n",
    "<span style=\"text-align: left\"><h3>MSc. in Computer Science</h3></span>\n",
    "<span style=\"text-align: left\"><h3>Date: 18 Nov. 2019</h3></span>\n",
    "\n",
    "<br><br><br>\n",
    "\n",
    "----\n",
    "<br><br><br>\n",
    "\n",
    "# Climate change analysis - the 🔥 topic\n",
    "\n",
    "In this notebook, we analyze the temperature data of various countires and understand the problems of global warming. We plan to acheive the understanding of whether a first world country is comparatively doing better than its counterpart in relation in increasing temperatures, or are we all in this together. 🌍\n",
    "\n",
    "## 1. Business case description\n",
    "\n",
    "### 1.1. Area of interest\n",
    "This business case will revolve around the HOT topic in recent days. The goal of this project is to do an analysis on “Climate Change” over the years. There are people arguing that climate change is the biggest threat to humanity whereas there are others dismissing the whole topic as a hoax (**POTUS** for example). More people, organizations and influential identities are actively getting involved in improving the status of deteriorating climate. The provided dataset contains records of temperature starting from 1750 until 2014. Some countries lack the data from earlier in the timeline.\n",
    "\n",
    "### 1.2. Goal\n",
    "The aim of this project is to create an analysis of climate change over 200+ years of data and provide them for data-backed analysis and awareness for the general public around the world. This project alone will not “solve” the business case of climate change  as it is a global challenge requiring effort from everyone but it is the correct step towards doing so.\n",
    "The main goal for now is to compare the analysis between 4 different countries with various different histories, population size and economic condition. I’ve chosen India, Australia and China for diversity of conditions and data & Denmark so it will help us to easily comprehend the comparison. \n",
    "\n",
    "### 1.3. Dataset\n",
    "The data set consists of temperature records dating back to 1750 up until 2014. That’s over 200 years of temperature data from all over the world, divided into countries and cities and from every month of the year. It also includes latitude and longitude of all the cities so it could be used to plot the data onto a map. [Link to dataset](https://www.kaggle.com/berkeleyearth/climate-change-earth-surface-temperature-data).\n",
    "\n",
    "### 1.4. How will the dataset be helpful to solve the business problem?\n",
    "As previously mentioned, the dataset consists of average temperature records starting from 1750. To put that into perspective, it was before the Industrial Revolution started ([Source: Wikipedia](https://en.wikipedia.org/wiki/Industrial_Revolution)). That's perfect for our study because when the Industrial Revolution began from around 1760, the transition included going from hand production methods to machines, new chemical manufacturing and iron production processes, the increasing use of steam power and water power, the development of machine tools and the rise of the mechanized factory system. The Industrial Revolution also led to an unprecedented rise in the rate of population growth. ([Source:Wikipedia](https://en.wikipedia.org/wiki/Industrial_Revolution)) All this adds up to rampant use of natural resources in an unsustainanable manner, harmful smoke and chemical released in the nature without proper disposition harming the wildlife and climate. Jumping forward to the 1900s during the two World Wars, there was chemical warfare causing radiation and making lands uninhabitable for any kind of ecosystem which is vital for creating balance in nature.\n",
    "\n",
    "In conclusion, due to the increase in population and change in lifestyle through use of machineray and chemicals, we have a perfect dataset to examine how it has affected the environment around us and learn if climate change is true or not.\n",
    "\n",
    "----\n",
    "\n",
    "## 2. Exploratory data analysis process\n",
    "\n",
    "Form this point on, we start the journey of exploring the data we have. This is a step-by-step process.\n",
    "1. [Identify business problem](#1.-Business-case-description)\n",
    "2. [Collect data](#3.-Collect-and-prepare-data)\n",
    "3. [Prepare data](#3.-Collect-and-prepare-data)\n",
    "4. [Analyze data](#8.-Map-the-data-onto-graphs.)\n",
    "5. [Conclude and communicate](#11.-Conclusion-of-the-analysis)\n",
    "\n",
    "Other points to focus:\n",
    "6. [Linear Regression](#9.-Linear-Regression)\n",
    "7. [Model prediction and errors](10.-Model-predictions-and-errors)\n",
    "8. [Big data and storage](#12.-Big-data-and-storage)\n",
    "9. [Reflection on ethical and legal issues](#13.-Reflection-on-ethical-and-legal-issues)\n",
    "\n",
    "We have identified the buisness problem above, next step is to collect and prepare the data."
   ]
  },
  {
   "cell_type": "markdown",
   "metadata": {},
   "source": [
    "## 3. Collect and prepare data\n",
    "\n",
    "### 3.1. Data Collection\n",
    "\n",
    "The cleaned and prepared source of dataset is [Kaggle](https://www.kaggle.com/berkeleyearth/climate-change-earth-surface-temperature-data) and their source of raw data is [Berkeley Earth data page](http://berkeleyearth.org/data/).\n",
    "\n",
    "In the dataset, there exists several files focusing on different aspects of recorded temperatures such as maximum/minimum temperature by land, average temperature by land, average temperature by ocean, global average temperatures and much more. For our project, we will be focusing on \"Global Average Land Temperature by Country\" as that provides the sufficient level of details without going into individual cities.\n"
   ]
  },
  {
   "cell_type": "code",
   "execution_count": 1,
   "metadata": {},
   "outputs": [],
   "source": [
    "# This is to suppress warnings from a few of the scripts. To enable, run: options(warn=0)\n",
    "options(warn=-1)"
   ]
  },
  {
   "cell_type": "markdown",
   "metadata": {},
   "source": [
    "### 3.2. Data preparation\n",
    "First check if the dataset is present in the current location. The path can be changed as needed. We're interested in the file \"GlobalLandTemperaturesByCountry.csv\"."
   ]
  },
  {
   "cell_type": "code",
   "execution_count": 2,
   "metadata": {},
   "outputs": [
    {
     "data": {
      "text/html": [
       "<ol class=list-inline>\n",
       "\t<li>'Climate change analysis - the ?? topic.ipynb'</li>\n",
       "\t<li>'GlobalLandTemperaturesByCity.csv'</li>\n",
       "\t<li>'GlobalLandTemperaturesByCountry.csv'</li>\n",
       "\t<li>'GlobalLandTemperaturesByMajorCity.csv'</li>\n",
       "\t<li>'GlobalLandTemperaturesByState.csv'</li>\n",
       "\t<li>'GlobalTemperatures.csv'</li>\n",
       "</ol>\n"
      ],
      "text/latex": [
       "\\begin{enumerate*}\n",
       "\\item 'Climate change analysis - the ?? topic.ipynb'\n",
       "\\item 'GlobalLandTemperaturesByCity.csv'\n",
       "\\item 'GlobalLandTemperaturesByCountry.csv'\n",
       "\\item 'GlobalLandTemperaturesByMajorCity.csv'\n",
       "\\item 'GlobalLandTemperaturesByState.csv'\n",
       "\\item 'GlobalTemperatures.csv'\n",
       "\\end{enumerate*}\n"
      ],
      "text/markdown": [
       "1. 'Climate change analysis - the ?? topic.ipynb'\n",
       "2. 'GlobalLandTemperaturesByCity.csv'\n",
       "3. 'GlobalLandTemperaturesByCountry.csv'\n",
       "4. 'GlobalLandTemperaturesByMajorCity.csv'\n",
       "5. 'GlobalLandTemperaturesByState.csv'\n",
       "6. 'GlobalTemperatures.csv'\n",
       "\n",
       "\n"
      ],
      "text/plain": [
       "[1] \"Climate change analysis - the ?? topic.ipynb\"\n",
       "[2] \"GlobalLandTemperaturesByCity.csv\"            \n",
       "[3] \"GlobalLandTemperaturesByCountry.csv\"         \n",
       "[4] \"GlobalLandTemperaturesByMajorCity.csv\"       \n",
       "[5] \"GlobalLandTemperaturesByState.csv\"           \n",
       "[6] \"GlobalTemperatures.csv\"                      "
      ]
     },
     "metadata": {},
     "output_type": "display_data"
    }
   ],
   "source": [
    "list.files(\".\")"
   ]
  },
  {
   "cell_type": "markdown",
   "metadata": {},
   "source": [
    "#### 3.2.1. Load the csv file into a variable and print to check if it is as expected."
   ]
  },
  {
   "cell_type": "code",
   "execution_count": 3,
   "metadata": {
    "scrolled": true
   },
   "outputs": [
    {
     "data": {
      "text/html": [
       "<table>\n",
       "<thead><tr><th></th><th scope=col>dt</th><th scope=col>AverageTemperature</th><th scope=col>AverageTemperatureUncertainty</th><th scope=col>Country</th></tr></thead>\n",
       "<tbody>\n",
       "\t<tr><th scope=row>577457</th><td>2013-04-01</td><td>21.142    </td><td>0.495     </td><td>Zimbabwe  </td></tr>\n",
       "\t<tr><th scope=row>577458</th><td>2013-05-01</td><td>19.059    </td><td>1.022     </td><td>Zimbabwe  </td></tr>\n",
       "\t<tr><th scope=row>577459</th><td>2013-06-01</td><td>17.613    </td><td>0.473     </td><td>Zimbabwe  </td></tr>\n",
       "\t<tr><th scope=row>577460</th><td>2013-07-01</td><td>17.000    </td><td>0.453     </td><td>Zimbabwe  </td></tr>\n",
       "\t<tr><th scope=row>577461</th><td>2013-08-01</td><td>19.759    </td><td>0.717     </td><td>Zimbabwe  </td></tr>\n",
       "\t<tr><th scope=row>577462</th><td>2013-09-01</td><td>    NA    </td><td>   NA     </td><td>Zimbabwe  </td></tr>\n",
       "</tbody>\n",
       "</table>\n"
      ],
      "text/latex": [
       "\\begin{tabular}{r|llll}\n",
       "  & dt & AverageTemperature & AverageTemperatureUncertainty & Country\\\\\n",
       "\\hline\n",
       "\t577457 & 2013-04-01 & 21.142     & 0.495      & Zimbabwe  \\\\\n",
       "\t577458 & 2013-05-01 & 19.059     & 1.022      & Zimbabwe  \\\\\n",
       "\t577459 & 2013-06-01 & 17.613     & 0.473      & Zimbabwe  \\\\\n",
       "\t577460 & 2013-07-01 & 17.000     & 0.453      & Zimbabwe  \\\\\n",
       "\t577461 & 2013-08-01 & 19.759     & 0.717      & Zimbabwe  \\\\\n",
       "\t577462 & 2013-09-01 &     NA     &    NA      & Zimbabwe  \\\\\n",
       "\\end{tabular}\n"
      ],
      "text/markdown": [
       "\n",
       "| <!--/--> | dt | AverageTemperature | AverageTemperatureUncertainty | Country |\n",
       "|---|---|---|---|---|\n",
       "| 577457 | 2013-04-01 | 21.142     | 0.495      | Zimbabwe   |\n",
       "| 577458 | 2013-05-01 | 19.059     | 1.022      | Zimbabwe   |\n",
       "| 577459 | 2013-06-01 | 17.613     | 0.473      | Zimbabwe   |\n",
       "| 577460 | 2013-07-01 | 17.000     | 0.453      | Zimbabwe   |\n",
       "| 577461 | 2013-08-01 | 19.759     | 0.717      | Zimbabwe   |\n",
       "| 577462 | 2013-09-01 |     NA     |    NA      | Zimbabwe   |\n",
       "\n"
      ],
      "text/plain": [
       "       dt         AverageTemperature AverageTemperatureUncertainty Country \n",
       "577457 2013-04-01 21.142             0.495                         Zimbabwe\n",
       "577458 2013-05-01 19.059             1.022                         Zimbabwe\n",
       "577459 2013-06-01 17.613             0.473                         Zimbabwe\n",
       "577460 2013-07-01 17.000             0.453                         Zimbabwe\n",
       "577461 2013-08-01 19.759             0.717                         Zimbabwe\n",
       "577462 2013-09-01     NA                NA                         Zimbabwe"
      ]
     },
     "metadata": {},
     "output_type": "display_data"
    }
   ],
   "source": [
    "ClimateByCountry <- read.csv(\"GlobalLandTemperaturesByCountry.csv\")\n",
    "tail(ClimateByCountry)"
   ]
  },
  {
   "cell_type": "markdown",
   "metadata": {},
   "source": [
    "#### 3.2.2. Check the data types of the loaded data\n",
    "\n",
    "Here, we check the data types of the data loaded onto R. Since we load the data from a CSV file, R does not know what type of data certain inputs are. By default, it categorises unknown data types as Factor as they can store both strings and integers."
   ]
  },
  {
   "cell_type": "code",
   "execution_count": 4,
   "metadata": {
    "scrolled": false
   },
   "outputs": [
    {
     "name": "stdout",
     "output_type": "stream",
     "text": [
      "'data.frame':\t577462 obs. of  4 variables:\n",
      " $ dt                           : Factor w/ 3239 levels \"1743-11-01\",\"1743-12-01\",..: 1 2 3 4 5 6 7 8 9 10 ...\n",
      " $ AverageTemperature           : num  4.38 NA NA NA NA ...\n",
      " $ AverageTemperatureUncertainty: num  2.29 NA NA NA NA ...\n",
      " $ Country                      : Factor w/ 243 levels \"Ã…land\",\"Afghanistan\",..: 1 1 1 1 1 1 1 1 1 1 ...\n"
     ]
    }
   ],
   "source": [
    "str(ClimateByCountry)"
   ]
  },
  {
   "cell_type": "markdown",
   "metadata": {},
   "source": [
    "#### 3.2.3. Update the data types\n",
    "\n",
    "In the following steps, we change the data types from Factor to what we know it should be. For example, in the above output, `dt` has the data type of factor. By inspecting the values, let's say \"1743-11-01\", we know it is a `date` data type. Same with country, we know it is a `character` data type."
   ]
  },
  {
   "cell_type": "markdown",
   "metadata": {},
   "source": [
    "Change type of \"dt\" from `Factor` to `dateTime`"
   ]
  },
  {
   "cell_type": "code",
   "execution_count": 5,
   "metadata": {
    "scrolled": true
   },
   "outputs": [
    {
     "name": "stderr",
     "output_type": "stream",
     "text": [
      "\n",
      "Attaching package: 'lubridate'\n",
      "\n",
      "The following object is masked from 'package:base':\n",
      "\n",
      "    date\n",
      "\n"
     ]
    },
    {
     "name": "stdout",
     "output_type": "stream",
     "text": [
      "'data.frame':\t577462 obs. of  4 variables:\n",
      " $ dt                           : Date, format: \"1743-11-01\" \"1743-12-01\" ...\n",
      " $ AverageTemperature           : num  4.38 NA NA NA NA ...\n",
      " $ AverageTemperatureUncertainty: num  2.29 NA NA NA NA ...\n",
      " $ Country                      : Factor w/ 243 levels \"Ã…land\",\"Afghanistan\",..: 1 1 1 1 1 1 1 1 1 1 ...\n"
     ]
    }
   ],
   "source": [
    "library(lubridate)\n",
    "ClimateByCountry$dt <- ymd(ClimateByCountry$dt)\n",
    "str(ClimateByCountry)"
   ]
  },
  {
   "cell_type": "markdown",
   "metadata": {},
   "source": [
    "Change type of \"Country\" from `Factor` to `character``"
   ]
  },
  {
   "cell_type": "code",
   "execution_count": 6,
   "metadata": {},
   "outputs": [
    {
     "name": "stdout",
     "output_type": "stream",
     "text": [
      "'data.frame':\t577462 obs. of  4 variables:\n",
      " $ dt                           : Date, format: \"1743-11-01\" \"1743-12-01\" ...\n",
      " $ AverageTemperature           : num  4.38 NA NA NA NA ...\n",
      " $ AverageTemperatureUncertainty: num  2.29 NA NA NA NA ...\n",
      " $ Country                      : chr  \"Ã…land\" \"Ã…land\" \"Ã…land\" \"Ã…land\" ...\n"
     ]
    }
   ],
   "source": [
    "ClimateByCountry$Country <- as.character(ClimateByCountry$Country)\n",
    "str(ClimateByCountry)"
   ]
  },
  {
   "cell_type": "markdown",
   "metadata": {},
   "source": [
    "## 4. Import required libraries\n",
    "\n",
    "As we move forward, we need to plot the data in different charts and graphs. To do so, we import the required libraries."
   ]
  },
  {
   "cell_type": "code",
   "execution_count": 7,
   "metadata": {},
   "outputs": [
    {
     "name": "stderr",
     "output_type": "stream",
     "text": [
      "\n",
      "Attaching package: 'dplyr'\n",
      "\n",
      "The following objects are masked from 'package:lubridate':\n",
      "\n",
      "    intersect, setdiff, union\n",
      "\n",
      "The following objects are masked from 'package:stats':\n",
      "\n",
      "    filter, lag\n",
      "\n",
      "The following objects are masked from 'package:base':\n",
      "\n",
      "    intersect, setdiff, setequal, union\n",
      "\n",
      "Registered S3 methods overwritten by 'ggplot2':\n",
      "  method         from \n",
      "  [.quosures     rlang\n",
      "  c.quosures     rlang\n",
      "  print.quosures rlang\n",
      "Loading required package: viridisLite\n",
      "\n",
      "Attaching package: 'gridExtra'\n",
      "\n",
      "The following object is masked from 'package:dplyr':\n",
      "\n",
      "    combine\n",
      "\n"
     ]
    }
   ],
   "source": [
    "library(dplyr) # For arrange function\n",
    "library(ggplot2) # For ggplot function\n",
    "\n",
    "# The following libraries are for better visualization functions\n",
    "library(viridis)\n",
    "library(viridisLite)\n",
    "library(ggbeeswarm)\n",
    "library(gridExtra) # For arranging multiple plots side by side"
   ]
  },
  {
   "cell_type": "markdown",
   "metadata": {},
   "source": [
    "## 5. Filter and arrange\n",
    "\n",
    "We don't know if the countries in the data set are repeated. So we filter them to have unique country names and also sort them in alaphabetical order for ease of readability."
   ]
  },
  {
   "cell_type": "code",
   "execution_count": 8,
   "metadata": {},
   "outputs": [
    {
     "data": {
      "text/html": [
       "<table>\n",
       "<thead><tr><th scope=col>Country</th></tr></thead>\n",
       "<tbody>\n",
       "\t<tr><td>Ã…land                           </td></tr>\n",
       "\t<tr><td>Afghanistan                      </td></tr>\n",
       "\t<tr><td>Africa                           </td></tr>\n",
       "\t<tr><td>Albania                          </td></tr>\n",
       "\t<tr><td>Algeria                          </td></tr>\n",
       "\t<tr><td>American Samoa                   </td></tr>\n",
       "\t<tr><td>Andorra                          </td></tr>\n",
       "\t<tr><td>Angola                           </td></tr>\n",
       "\t<tr><td>Anguilla                         </td></tr>\n",
       "\t<tr><td>Antarctica                       </td></tr>\n",
       "\t<tr><td>Antigua And Barbuda              </td></tr>\n",
       "\t<tr><td>Argentina                        </td></tr>\n",
       "\t<tr><td>Armenia                          </td></tr>\n",
       "\t<tr><td>Aruba                            </td></tr>\n",
       "\t<tr><td>Asia                             </td></tr>\n",
       "\t<tr><td>Australia                        </td></tr>\n",
       "\t<tr><td>Austria                          </td></tr>\n",
       "\t<tr><td>Azerbaijan                       </td></tr>\n",
       "\t<tr><td>Bahamas                          </td></tr>\n",
       "\t<tr><td>Bahrain                          </td></tr>\n",
       "\t<tr><td>Baker Island                     </td></tr>\n",
       "\t<tr><td>Bangladesh                       </td></tr>\n",
       "\t<tr><td>Barbados                         </td></tr>\n",
       "\t<tr><td>Belarus                          </td></tr>\n",
       "\t<tr><td>Belgium                          </td></tr>\n",
       "\t<tr><td>Belize                           </td></tr>\n",
       "\t<tr><td>Benin                            </td></tr>\n",
       "\t<tr><td>Bhutan                           </td></tr>\n",
       "\t<tr><td>Bolivia                          </td></tr>\n",
       "\t<tr><td>Bonaire, Saint Eustatius And Saba</td></tr>\n",
       "\t<tr><td>...</td></tr>\n",
       "\t<tr><td>Sweden                  </td></tr>\n",
       "\t<tr><td>Switzerland             </td></tr>\n",
       "\t<tr><td>Syria                   </td></tr>\n",
       "\t<tr><td>Taiwan                  </td></tr>\n",
       "\t<tr><td>Tajikistan              </td></tr>\n",
       "\t<tr><td>Tanzania                </td></tr>\n",
       "\t<tr><td>Thailand                </td></tr>\n",
       "\t<tr><td>Timor Leste             </td></tr>\n",
       "\t<tr><td>Togo                    </td></tr>\n",
       "\t<tr><td>Tonga                   </td></tr>\n",
       "\t<tr><td>Trinidad And Tobago     </td></tr>\n",
       "\t<tr><td>Tunisia                 </td></tr>\n",
       "\t<tr><td>Turkey                  </td></tr>\n",
       "\t<tr><td>Turkmenistan            </td></tr>\n",
       "\t<tr><td>Turks And Caicas Islands</td></tr>\n",
       "\t<tr><td>Uganda                  </td></tr>\n",
       "\t<tr><td>Ukraine                 </td></tr>\n",
       "\t<tr><td>United Arab Emirates    </td></tr>\n",
       "\t<tr><td>United Kingdom          </td></tr>\n",
       "\t<tr><td>United Kingdom (Europe) </td></tr>\n",
       "\t<tr><td>United States           </td></tr>\n",
       "\t<tr><td>Uruguay                 </td></tr>\n",
       "\t<tr><td>Uzbekistan              </td></tr>\n",
       "\t<tr><td>Venezuela               </td></tr>\n",
       "\t<tr><td>Vietnam                 </td></tr>\n",
       "\t<tr><td>Virgin Islands          </td></tr>\n",
       "\t<tr><td>Western Sahara          </td></tr>\n",
       "\t<tr><td>Yemen                   </td></tr>\n",
       "\t<tr><td>Zambia                  </td></tr>\n",
       "\t<tr><td>Zimbabwe                </td></tr>\n",
       "</tbody>\n",
       "</table>\n"
      ],
      "text/latex": [
       "\\begin{tabular}{r|l}\n",
       " Country\\\\\n",
       "\\hline\n",
       "\t Ã…land                           \\\\\n",
       "\t Afghanistan                      \\\\\n",
       "\t Africa                           \\\\\n",
       "\t Albania                          \\\\\n",
       "\t Algeria                          \\\\\n",
       "\t American Samoa                   \\\\\n",
       "\t Andorra                          \\\\\n",
       "\t Angola                           \\\\\n",
       "\t Anguilla                         \\\\\n",
       "\t Antarctica                       \\\\\n",
       "\t Antigua And Barbuda              \\\\\n",
       "\t Argentina                        \\\\\n",
       "\t Armenia                          \\\\\n",
       "\t Aruba                            \\\\\n",
       "\t Asia                             \\\\\n",
       "\t Australia                        \\\\\n",
       "\t Austria                          \\\\\n",
       "\t Azerbaijan                       \\\\\n",
       "\t Bahamas                          \\\\\n",
       "\t Bahrain                          \\\\\n",
       "\t Baker Island                     \\\\\n",
       "\t Bangladesh                       \\\\\n",
       "\t Barbados                         \\\\\n",
       "\t Belarus                          \\\\\n",
       "\t Belgium                          \\\\\n",
       "\t Belize                           \\\\\n",
       "\t Benin                            \\\\\n",
       "\t Bhutan                           \\\\\n",
       "\t Bolivia                          \\\\\n",
       "\t Bonaire, Saint Eustatius And Saba\\\\\n",
       "\t ...\\\\\n",
       "\t Sweden                  \\\\\n",
       "\t Switzerland             \\\\\n",
       "\t Syria                   \\\\\n",
       "\t Taiwan                  \\\\\n",
       "\t Tajikistan              \\\\\n",
       "\t Tanzania                \\\\\n",
       "\t Thailand                \\\\\n",
       "\t Timor Leste             \\\\\n",
       "\t Togo                    \\\\\n",
       "\t Tonga                   \\\\\n",
       "\t Trinidad And Tobago     \\\\\n",
       "\t Tunisia                 \\\\\n",
       "\t Turkey                  \\\\\n",
       "\t Turkmenistan            \\\\\n",
       "\t Turks And Caicas Islands\\\\\n",
       "\t Uganda                  \\\\\n",
       "\t Ukraine                 \\\\\n",
       "\t United Arab Emirates    \\\\\n",
       "\t United Kingdom          \\\\\n",
       "\t United Kingdom (Europe) \\\\\n",
       "\t United States           \\\\\n",
       "\t Uruguay                 \\\\\n",
       "\t Uzbekistan              \\\\\n",
       "\t Venezuela               \\\\\n",
       "\t Vietnam                 \\\\\n",
       "\t Virgin Islands          \\\\\n",
       "\t Western Sahara          \\\\\n",
       "\t Yemen                   \\\\\n",
       "\t Zambia                  \\\\\n",
       "\t Zimbabwe                \\\\\n",
       "\\end{tabular}\n"
      ],
      "text/markdown": [
       "\n",
       "| Country |\n",
       "|---|\n",
       "| Ã…land                            |\n",
       "| Afghanistan                       |\n",
       "| Africa                            |\n",
       "| Albania                           |\n",
       "| Algeria                           |\n",
       "| American Samoa                    |\n",
       "| Andorra                           |\n",
       "| Angola                            |\n",
       "| Anguilla                          |\n",
       "| Antarctica                        |\n",
       "| Antigua And Barbuda               |\n",
       "| Argentina                         |\n",
       "| Armenia                           |\n",
       "| Aruba                             |\n",
       "| Asia                              |\n",
       "| Australia                         |\n",
       "| Austria                           |\n",
       "| Azerbaijan                        |\n",
       "| Bahamas                           |\n",
       "| Bahrain                           |\n",
       "| Baker Island                      |\n",
       "| Bangladesh                        |\n",
       "| Barbados                          |\n",
       "| Belarus                           |\n",
       "| Belgium                           |\n",
       "| Belize                            |\n",
       "| Benin                             |\n",
       "| Bhutan                            |\n",
       "| Bolivia                           |\n",
       "| Bonaire, Saint Eustatius And Saba |\n",
       "| ... |\n",
       "| Sweden                   |\n",
       "| Switzerland              |\n",
       "| Syria                    |\n",
       "| Taiwan                   |\n",
       "| Tajikistan               |\n",
       "| Tanzania                 |\n",
       "| Thailand                 |\n",
       "| Timor Leste              |\n",
       "| Togo                     |\n",
       "| Tonga                    |\n",
       "| Trinidad And Tobago      |\n",
       "| Tunisia                  |\n",
       "| Turkey                   |\n",
       "| Turkmenistan             |\n",
       "| Turks And Caicas Islands |\n",
       "| Uganda                   |\n",
       "| Ukraine                  |\n",
       "| United Arab Emirates     |\n",
       "| United Kingdom           |\n",
       "| United Kingdom (Europe)  |\n",
       "| United States            |\n",
       "| Uruguay                  |\n",
       "| Uzbekistan               |\n",
       "| Venezuela                |\n",
       "| Vietnam                  |\n",
       "| Virgin Islands           |\n",
       "| Western Sahara           |\n",
       "| Yemen                    |\n",
       "| Zambia                   |\n",
       "| Zimbabwe                 |\n",
       "\n"
      ],
      "text/plain": [
       "    Country                          \n",
       "1   Ã…land                           \n",
       "2   Afghanistan                      \n",
       "3   Africa                           \n",
       "4   Albania                          \n",
       "5   Algeria                          \n",
       "6   American Samoa                   \n",
       "7   Andorra                          \n",
       "8   Angola                           \n",
       "9   Anguilla                         \n",
       "10  Antarctica                       \n",
       "11  Antigua And Barbuda              \n",
       "12  Argentina                        \n",
       "13  Armenia                          \n",
       "14  Aruba                            \n",
       "15  Asia                             \n",
       "16  Australia                        \n",
       "17  Austria                          \n",
       "18  Azerbaijan                       \n",
       "19  Bahamas                          \n",
       "20  Bahrain                          \n",
       "21  Baker Island                     \n",
       "22  Bangladesh                       \n",
       "23  Barbados                         \n",
       "24  Belarus                          \n",
       "25  Belgium                          \n",
       "26  Belize                           \n",
       "27  Benin                            \n",
       "28  Bhutan                           \n",
       "29  Bolivia                          \n",
       "30  Bonaire, Saint Eustatius And Saba\n",
       "... ...                              \n",
       "214 Sweden                           \n",
       "215 Switzerland                      \n",
       "216 Syria                            \n",
       "217 Taiwan                           \n",
       "218 Tajikistan                       \n",
       "219 Tanzania                         \n",
       "220 Thailand                         \n",
       "221 Timor Leste                      \n",
       "222 Togo                             \n",
       "223 Tonga                            \n",
       "224 Trinidad And Tobago              \n",
       "225 Tunisia                          \n",
       "226 Turkey                           \n",
       "227 Turkmenistan                     \n",
       "228 Turks And Caicas Islands         \n",
       "229 Uganda                           \n",
       "230 Ukraine                          \n",
       "231 United Arab Emirates             \n",
       "232 United Kingdom                   \n",
       "233 United Kingdom (Europe)          \n",
       "234 United States                    \n",
       "235 Uruguay                          \n",
       "236 Uzbekistan                       \n",
       "237 Venezuela                        \n",
       "238 Vietnam                          \n",
       "239 Virgin Islands                   \n",
       "240 Western Sahara                   \n",
       "241 Yemen                            \n",
       "242 Zambia                           \n",
       "243 Zimbabwe                         "
      ]
     },
     "metadata": {},
     "output_type": "display_data"
    }
   ],
   "source": [
    "UniqueCountries <- unique(ClimateByCountry[c(\"Country\")])\n",
    "\n",
    "UniqueCountries %>% arrange(Country)"
   ]
  },
  {
   "cell_type": "markdown",
   "metadata": {},
   "source": [
    "## 6. Verify if the needed countries are in the dataframe.\n",
    "\n",
    "I decided to choose 4 different countries from 3 different continents due to their different properties. Denmark and Australia being 1st world countries with very high standards of living and China & India on the other end where they are developing countries, high population and much lower standards of living, comparatively.\n",
    "\n",
    "- **Denmark** : Where we live so its easier to understand the comparision with other countries. Also, it is one of the most developed countries so it is interesting to see how much climate change has affected Denmark. Its also the smallest country in the candidate list.\n",
    "\n",
    "\n",
    "- **India** : One of the most rapidly developing countries currently but it has more going on. Second most populated country in the world, seventh-largest country, varying range of temperatures, under British empire and much more characteristics which makes India an interesting candidate.\n",
    "\n",
    "\n",
    "- **Australia** : World's sixth-largest country but under-populated as most of the central Australia is unhabitated due to extreme temperatures. Segregated from most of the world, with regards to its location, but another highly developed country in the list.\n",
    "\n",
    "\n",
    "- **China** : Most populated country in the world and third largest country in the world. A developing country where majority of the people are living under the poverty line. Most of the labour around the world is sourced in to China because of cheap labour. China has one of the worst air pollution in the world making it very interesting for this analysis."
   ]
  },
  {
   "cell_type": "code",
   "execution_count": 9,
   "metadata": {},
   "outputs": [
    {
     "data": {
      "text/html": [
       "TRUE"
      ],
      "text/latex": [
       "TRUE"
      ],
      "text/markdown": [
       "TRUE"
      ],
      "text/plain": [
       "[1] TRUE"
      ]
     },
     "metadata": {},
     "output_type": "display_data"
    },
    {
     "data": {
      "text/html": [
       "TRUE"
      ],
      "text/latex": [
       "TRUE"
      ],
      "text/markdown": [
       "TRUE"
      ],
      "text/plain": [
       "[1] TRUE"
      ]
     },
     "metadata": {},
     "output_type": "display_data"
    },
    {
     "data": {
      "text/html": [
       "TRUE"
      ],
      "text/latex": [
       "TRUE"
      ],
      "text/markdown": [
       "TRUE"
      ],
      "text/plain": [
       "[1] TRUE"
      ]
     },
     "metadata": {},
     "output_type": "display_data"
    },
    {
     "data": {
      "text/html": [
       "TRUE"
      ],
      "text/latex": [
       "TRUE"
      ],
      "text/markdown": [
       "TRUE"
      ],
      "text/plain": [
       "[1] TRUE"
      ]
     },
     "metadata": {},
     "output_type": "display_data"
    },
    {
     "data": {
      "text/html": [
       "FALSE"
      ],
      "text/latex": [
       "FALSE"
      ],
      "text/markdown": [
       "FALSE"
      ],
      "text/plain": [
       "[1] FALSE"
      ]
     },
     "metadata": {},
     "output_type": "display_data"
    }
   ],
   "source": [
    "\"Australia\" %in% UniqueCountries$Country\n",
    "\"Denmark\" %in% UniqueCountries$Country\n",
    "\"India\" %in% UniqueCountries$Country\n",
    "\"China\" %in% UniqueCountries$Country\n",
    "\"Mars\" %in% UniqueCountries$Country # This is just a failing test to check if \"false\" is returned as expected or not"
   ]
  },
  {
   "cell_type": "markdown",
   "metadata": {},
   "source": [
    "## 7. Data extraction and organization\n",
    "\n",
    "Here, we extract the climate data for the forementioned 4 countries. "
   ]
  },
  {
   "cell_type": "code",
   "execution_count": 10,
   "metadata": {},
   "outputs": [],
   "source": [
    "# Extract the climate data for the needed countries.\n",
    "ClimateCountryDenmark <- ClimateByCountry[ClimateByCountry$Country==\"Denmark\",]\n",
    "ClimateCountryIndia <- ClimateByCountry[ClimateByCountry$Country==\"India\",]\n",
    "ClimateCountryAustralia <- ClimateByCountry[ClimateByCountry$Country==\"Australia\",]\n",
    "ClimateCountryChina <- ClimateByCountry[ClimateByCountry$Country==\"China\",]"
   ]
  },
  {
   "cell_type": "markdown",
   "metadata": {},
   "source": [
    "### 7.1 Organize the data based on year, month and date for all 4 countries.\n",
    "\n",
    "Now that we have extracted the data for the required countires, the next step is to go even further and separate data based on Year and Month. This allows us to have fine grained data about each of the countries.\n"
   ]
  },
  {
   "cell_type": "code",
   "execution_count": 11,
   "metadata": {},
   "outputs": [],
   "source": [
    "# Extract the data for the Denmark by date.\n",
    "ClimateCountryDenmark <- ClimateByCountry[ClimateByCountry$Country==\"Denmark\",]\n",
    "ClimateCountryDenmark$dt <-as.Date(ClimateCountryDenmark$dt)\n",
    "ClimateCountryDenmark$Year <- format(ClimateCountryDenmark$dt,\"%Y\")\n",
    "ClimateCountryDenmark$Month <- format(ClimateCountryDenmark$dt,\"%m\")"
   ]
  },
  {
   "cell_type": "code",
   "execution_count": 12,
   "metadata": {},
   "outputs": [],
   "source": [
    "# Extract the data for the India by date.\n",
    "ClimateCountryIndia <- ClimateByCountry[ClimateByCountry$Country==\"India\",]\n",
    "ClimateCountryIndia$dt <-as.Date(ClimateCountryIndia$dt)\n",
    "ClimateCountryIndia$Year <- format(ClimateCountryIndia$dt,\"%Y\")\n",
    "ClimateCountryIndia$Month <- format(ClimateCountryIndia$dt,\"%m\")"
   ]
  },
  {
   "cell_type": "code",
   "execution_count": 13,
   "metadata": {},
   "outputs": [],
   "source": [
    "# Extract the data for the Australia by date.\n",
    "ClimateCountryAustralia <- ClimateByCountry[ClimateByCountry$Country==\"Australia\",]\n",
    "ClimateCountryAustralia$dt <-as.Date(ClimateCountryAustralia$dt)\n",
    "ClimateCountryAustralia$Year <- format(ClimateCountryAustralia$dt,\"%Y\")\n",
    "ClimateCountryAustralia$Month <- format(ClimateCountryAustralia$dt,\"%m\")"
   ]
  },
  {
   "cell_type": "code",
   "execution_count": 14,
   "metadata": {},
   "outputs": [],
   "source": [
    "# Extract the data for the China by date.\n",
    "ClimateCountryChina <- ClimateByCountry[ClimateByCountry$Country==\"China\",]\n",
    "ClimateCountryChina$dt <-as.Date(ClimateCountryChina$dt)\n",
    "ClimateCountryChina$Year <- format(ClimateCountryChina$dt,\"%Y\")\n",
    "ClimateCountryChina$Month <- format(ClimateCountryChina$dt,\"%m\")"
   ]
  },
  {
   "cell_type": "markdown",
   "metadata": {},
   "source": [
    "## 8. Map the data onto graphs.\n",
    "\n",
    "You can see 2 different graphs for each of the 4 countries.\n",
    "- The first graph compares the average temperaure every month, 100 years apart, 1904 and 2004.\n",
    "- The second graph draws the average temperature between 5 years; 1854, 1900, 1950, 2000 and 2012.\n",
    "\n",
    "_The years are enevenly spaced in the start and end because of lack of data for some countries._"
   ]
  },
  {
   "cell_type": "markdown",
   "metadata": {},
   "source": [
    "First we confirm that the data types are correctly set. If not, the plot will not be able to handle the provided data."
   ]
  },
  {
   "cell_type": "code",
   "execution_count": 15,
   "metadata": {
    "scrolled": true
   },
   "outputs": [
    {
     "name": "stdout",
     "output_type": "stream",
     "text": [
      "'data.frame':\t2289 obs. of  6 variables:\n",
      " $ dt                           : Date, format: \"1823-01-01\" \"1823-02-01\" ...\n",
      " $ AverageTemperature           : num  -29.4 -31.7 -28.4 -21.5 -12.9 ...\n",
      " $ AverageTemperatureUncertainty: num  3.65 3.44 2.76 3.38 2.94 ...\n",
      " $ Country                      : chr  \"Denmark\" \"Denmark\" \"Denmark\" \"Denmark\" ...\n",
      " $ Year                         : chr  \"1823\" \"1823\" \"1823\" \"1823\" ...\n",
      " $ Month                        : chr  \"01\" \"02\" \"03\" \"04\" ...\n"
     ]
    }
   ],
   "source": [
    "str(ClimateCountryDenmark)"
   ]
  },
  {
   "cell_type": "code",
   "execution_count": 16,
   "metadata": {},
   "outputs": [],
   "source": [
    "# Scaling down the plot size for readbility.\n",
    "options(repr.plot.width=10, repr.plot.height=4)"
   ]
  },
  {
   "cell_type": "code",
   "execution_count": 17,
   "metadata": {
    "scrolled": false
   },
   "outputs": [
    {
     "data": {
      "image/png": "[encoded data removed]",
      "text/plain": [
       "plot without title"
      ]
     },
     "metadata": {},
     "output_type": "display_data"
    }
   ],
   "source": [
    "pltDenmark1 <- ClimateCountryDenmark  %>% filter(Year==1904 | Year==2004) %>% ggplot(aes(Month, AverageTemperature,color=AverageTemperature)) + \n",
    "geom_quasirandom(groupOnX=FALSE) + scale_colour_viridis() +  ggtitle(\"Denmark\") + facet_grid(Year ~.)\n",
    "\n",
    "pltDenmark2 <- ClimateCountryDenmark  %>% filter( Year==1854 | Year==1900 | Year==1950 | Year==2000 | Year==2012) %>% ggplot(aes(AverageTemperature,Year,color=AverageTemperature)) + \n",
    "  geom_quasirandom(groupOnX = TRUE) + scale_colour_viridis(option = \"C\")\n",
    "\n",
    "grid.arrange(pltDenmark1, pltDenmark2, nrow=1, ncol=2)"
   ]
  },
  {
   "cell_type": "code",
   "execution_count": 18,
   "metadata": {},
   "outputs": [
    {
     "data": {
      "image/png": "[encoded data removed]",
      "text/plain": [
       "plot without title"
      ]
     },
     "metadata": {},
     "output_type": "display_data"
    }
   ],
   "source": [
    "pltIndia1 <- ClimateCountryIndia  %>% filter(Year==1904 | Year==2004) %>% ggplot(aes(AverageTemperature,Month,color=AverageTemperature)) + \n",
    "geom_quasirandom(groupOnX=FALSE) + scale_colour_viridis() +  ggtitle(\"India\") + facet_grid(Year ~.) + coord_flip()\n",
    "\n",
    "pltIndia2 <- ClimateCountryIndia  %>% filter( Year==1854 | Year==1900 | Year==1950 | Year==2000 | Year==2012) %>% ggplot(aes(AverageTemperature,Year,color=AverageTemperature)) + \n",
    "  geom_quasirandom(groupOnX = FALSE) + scale_colour_viridis(option = \"C\")\n",
    "\n",
    "grid.arrange(pltIndia1, pltIndia2, nrow=1, ncol=2)"
   ]
  },
  {
   "cell_type": "code",
   "execution_count": 19,
   "metadata": {},
   "outputs": [
    {
     "data": {
      "image/png": "[encoded data removed]",
      "text/plain": [
       "plot without title"
      ]
     },
     "metadata": {},
     "output_type": "display_data"
    }
   ],
   "source": [
    "pltAus1 <- ClimateCountryAustralia  %>% filter(Year==1904 | Year==2004) %>% ggplot(aes(AverageTemperature,Month,color=AverageTemperature)) + \n",
    "geom_quasirandom(groupOnX=FALSE) + scale_colour_viridis() +  ggtitle(\"Australia\") + facet_grid(Year ~.) + coord_flip()\n",
    "\n",
    "pltAus2 <- ClimateCountryAustralia  %>% filter( Year==1854 | Year==1900 | Year==1950 | Year==2000 | Year==2012) %>% ggplot(aes(AverageTemperature,Year,color=AverageTemperature)) + \n",
    "  geom_quasirandom(groupOnX = FALSE) + scale_colour_viridis(option = \"C\")\n",
    "\n",
    "grid.arrange(pltAus1, pltAus2, nrow=1, ncol=2)"
   ]
  },
  {
   "cell_type": "code",
   "execution_count": 20,
   "metadata": {
    "scrolled": true
   },
   "outputs": [
    {
     "data": {
      "image/png": "[encoded data removed]",
      "text/plain": [
       "plot without title"
      ]
     },
     "metadata": {},
     "output_type": "display_data"
    }
   ],
   "source": [
    "pltChina1 <- ClimateCountryChina  %>% filter(Year==1904 | Year==2000) %>% ggplot(aes(AverageTemperature,Month,color=AverageTemperature)) + \n",
    "geom_quasirandom(groupOnX=FALSE) + scale_colour_viridis() +  ggtitle(\"China\") + facet_grid(Year ~.) + coord_flip()\n",
    "\n",
    "pltChina2 <- ClimateCountryChina  %>% filter( Year==1854 | Year==1900 | Year==1950 | Year==2004 | Year==2012) %>% ggplot(aes(AverageTemperature,Year,color=AverageTemperature)) + \n",
    "  geom_quasirandom(groupOnX = FALSE) + scale_colour_viridis(option = \"C\")\n",
    "\n",
    "grid.arrange(pltChina1, pltChina2, nrow=1, ncol=2)"
   ]
  },
  {
   "cell_type": "markdown",
   "metadata": {},
   "source": [
    "### 8.1. Findings\n",
    "By simply plotting the data onto graphs, we can study the trend of climate change happenning. The graph on the left compares the average temperaure every month, 100 years apart, 1904 and 2004. The graph on the right draws the average temperature between 5 years in each of the months; 1854, 1900, 1950, 2000 and 2012.\n",
    "\n",
    "- Denmark: From a rough estimate by studying the graph, the average temperature in January was around -34°C in 1904 and -29°C in 2004. That's a whopping 5°C increase in just 100 years. But on the high end, it stayed the same at around -2°C. The other months has definitely seen an increse in temperature. \n",
    "(_Personally, I'm not sure if the data here is correct or I'm not familiar with rest of Denmark besides Copenhagen/Roskilde, because the graph shows the average temperature at it worst would be lower than -30°C but that's besides the point._)\n",
    "\n",
    "\n",
    "- India: Lowest in 1904 was 14°C, increased to 15°C in 2004. Higest in 1904 was 28°C, increased to 30°C in 2004.\n",
    "\n",
    "\n",
    "- Australia: Lowest in 1904 was 12°C, increased to 15°C in 2004. Higest in 1904 was 28°C, increased to 30°C in 2004.\n",
    "\n",
    "\n",
    "- China: Lowest in 1904 was -10°C, increased to -8°C in 2004. Higest in 1904 was 30°C, increased to 33°C in 2004.\n",
    "\n",
    "\n",
    "Clearly, there has been increase in average land temperatures in different countries regardless if they are developing or developed countries. We were only focusing on the extremes but the effect seemed more clear if we look at other months. For example, on the month of October, the average temperatre in 1904 increased from -22°C to -16°C."
   ]
  },
  {
   "cell_type": "markdown",
   "metadata": {},
   "source": [
    "# 9. Linear Regression\n",
    "In our dataset, ther is a linear relationship between the two variables AverageTemperture and Year. Their linear relationship can be represented using linear regression. There are 2 types of linear regression, simple and multiple linear regression. In our case, we only have 2 variables, the AverageTemperature and Year. Hence, we will be focusing only on the simple linear regression.\n",
    "\n",
    "First, let's plot the relation for AverageTemperature and Year to show their linear relationship."
   ]
  },
  {
   "cell_type": "code",
   "execution_count": 21,
   "metadata": {},
   "outputs": [],
   "source": [
    "## Change type of `Year` and `Month` from character to numeric\n",
    "ClimateCountryDenmark$Year <- as.numeric(ClimateCountryDenmark$Year)\n",
    "ClimateCountryIndia$Year <- as.numeric(ClimateCountryIndia$Year)\n",
    "ClimateCountryAustralia$Year <- as.numeric(ClimateCountryAustralia$Year)\n",
    "ClimateCountryChina$Year <- as.numeric(ClimateCountryChina$Year)\n",
    "\n",
    "ClimateCountryDenmark$Month <- as.numeric(ClimateCountryDenmark$Month)\n",
    "ClimateCountryIndia$Month <- as.numeric(ClimateCountryIndia$Month)\n",
    "ClimateCountryAustralia$Month <- as.numeric(ClimateCountryAustralia$Month)\n",
    "ClimateCountryChina$Month <- as.numeric(ClimateCountryChina$Month)"
   ]
  },
  {
   "cell_type": "code",
   "execution_count": 22,
   "metadata": {
    "scrolled": false
   },
   "outputs": [
    {
     "data": {
      "image/png": "[encoded data removed]",
      "text/plain": [
       "plot without title"
      ]
     },
     "metadata": {},
     "output_type": "display_data"
    },
    {
     "data": {
      "image/png": "[encoded data removed]",
      "text/plain": [
       "plot without title"
      ]
     },
     "metadata": {},
     "output_type": "display_data"
    }
   ],
   "source": [
    "AvgDK <- ggplot(data = ClimateCountryDenmark %>% filter(Year==1900| Year==1925 | Year==1950 | Year==1975| Year==2000| Year==2014), mapping = aes(x = Year, y = AverageTemperature)) + geom_point() + geom_smooth(method = \"lm\") +  ggtitle(\"Denmark\") \n",
    "AvgIN <- ggplot(data = ClimateCountryIndia %>% filter(Year==1900| Year==1925 | Year==1950 | Year==1975| Year==2000| Year==2014), mapping = aes(x = Year, y = AverageTemperature)) + geom_point() + geom_smooth(method = \"lm\") +  ggtitle(\"India\") \n",
    "grid.arrange(AvgDK, AvgIN, nrow=1, ncol=2)\n",
    "AvgAU <- ggplot(data = ClimateCountryAustralia %>% filter(Year==1900| Year==1925 | Year==1950 | Year==1975| Year==2000| Year==2014), mapping = aes(x = Year, y = AverageTemperature)) + geom_point() + geom_smooth(method = \"lm\") +  ggtitle(\"Australia\") \n",
    "AvgCN <- ggplot(data = ClimateCountryChina %>% filter(Year==1900| Year==1925 | Year==1950 | Year==1975| Year==2000| Year==2014), mapping = aes(x = Year, y = AverageTemperature)) + geom_point() + geom_smooth(method = \"lm\") +  ggtitle(\"China\") \n",
    "grid.arrange(AvgAU, AvgCN, nrow=1, ncol=2)\n"
   ]
  },
  {
   "cell_type": "markdown",
   "metadata": {},
   "source": [
    "### 9.1. Fitting linear models in R - the `lm` function\n",
    "\n",
    "To quote the lecture notes (_Notebook 4.2 Linear Regression_), we want a model, for which the **root-mean-square distance** between the predicted values and response values is minimal. For each pair of actual and predicted response values we take the difference between them and square it. We them sum all these squared distances and take the square root of it.\n",
    "\n",
    "R, being a statistical computing programming language, has a function for fitting such linear model, `lm`.\n",
    "\n",
    "The function is simply called lm for \"linear models\". As its two main arguments, it takes a formula specifying the model you want to fit and the dataset to which you want to fit the model.\n",
    "\n",
    "Mathematically, it is represented as\n",
    "$$\n",
    "ClimateCountryDenmark$AverageTemperature = a_0 + a_1 * ClimateCountryDenmark$Year\n",
    "$$\n",
    "\n",
    "Let's go ahead and use the function in our dataset."
   ]
  },
  {
   "cell_type": "code",
   "execution_count": 23,
   "metadata": {},
   "outputs": [
    {
     "data": {
      "text/plain": [
       "\n",
       "Call:\n",
       "lm(formula = ClimateCountryDenmark$AverageTemperature ~ ClimateCountryDenmark$Year, \n",
       "    data = ClimateCountryDenmark)\n",
       "\n",
       "Coefficients:\n",
       "               (Intercept)  ClimateCountryDenmark$Year  \n",
       "                -35.516292                    0.009106  \n"
      ]
     },
     "metadata": {},
     "output_type": "display_data"
    },
    {
     "data": {
      "text/plain": [
       "\n",
       "Call:\n",
       "lm(formula = ClimateCountryIndia$AverageTemperature ~ ClimateCountryIndia$Year, \n",
       "    data = ClimateCountryIndia)\n",
       "\n",
       "Coefficients:\n",
       "             (Intercept)  ClimateCountryIndia$Year  \n",
       "               13.122999                  0.005636  \n"
      ]
     },
     "metadata": {},
     "output_type": "display_data"
    },
    {
     "data": {
      "text/plain": [
       "\n",
       "Call:\n",
       "lm(formula = ClimateCountryAustralia$AverageTemperature ~ ClimateCountryAustralia$Year, \n",
       "    data = ClimateCountryAustralia)\n",
       "\n",
       "Coefficients:\n",
       "                 (Intercept)  ClimateCountryAustralia$Year  \n",
       "                     9.19634                       0.00643  \n"
      ]
     },
     "metadata": {},
     "output_type": "display_data"
    },
    {
     "data": {
      "text/plain": [
       "\n",
       "Call:\n",
       "lm(formula = ClimateCountryChina$AverageTemperature ~ ClimateCountryChina$Year, \n",
       "    data = ClimateCountryChina)\n",
       "\n",
       "Coefficients:\n",
       "             (Intercept)  ClimateCountryChina$Year  \n",
       "               -8.778801                  0.008011  \n"
      ]
     },
     "metadata": {},
     "output_type": "display_data"
    }
   ],
   "source": [
    "lm(formula = ClimateCountryDenmark$AverageTemperature ~ ClimateCountryDenmark$Year, data = ClimateCountryDenmark)\n",
    "lm(formula = ClimateCountryIndia$AverageTemperature ~ ClimateCountryIndia$Year, data = ClimateCountryIndia)\n",
    "lm(formula = ClimateCountryAustralia$AverageTemperature ~ ClimateCountryAustralia$Year, data = ClimateCountryAustralia)\n",
    "lm(formula = ClimateCountryChina$AverageTemperature ~ ClimateCountryChina$Year, data = ClimateCountryChina)"
   ]
  },
  {
   "cell_type": "markdown",
   "metadata": {},
   "source": [
    "----"
   ]
  },
  {
   "cell_type": "markdown",
   "metadata": {},
   "source": [
    "The \"Call\" explains what model and data we used as input and the \"Coefficients\" tells you the $a_0$ and $a_1$ of your linear regression:\n",
    "$$\n",
    "ClimateCountryDenmark$AverageTemperature = a_0 + a_1 * ClimateCountryDenmark$Year\n",
    "$$\n",
    "\n",
    "$a_1$ is also referred to as \"the slope\" and $a_0$ as \"the intercept\".\n",
    "\n",
    "Putting in the number we get that:\n",
    "$$\n",
    "ClimateCountryDenmark$AverageTemperature = -35.516292 * ClimateCountryDenmark$Year + 0.009106\n",
    "$$\n",
    "\n",
    "Next, let's assign these functions to a variable and plot the graph to visaulize what we calculated as the model. "
   ]
  },
  {
   "cell_type": "code",
   "execution_count": 24,
   "metadata": {},
   "outputs": [],
   "source": [
    "fitDenmark <- lm(formula = ClimateCountryDenmark$AverageTemperature ~ ClimateCountryDenmark$Year, data = ClimateCountryDenmark)\n",
    "fitIndia <- lm(formula = ClimateCountryIndia$AverageTemperature ~ ClimateCountryIndia$Year, data = ClimateCountryIndia)\n",
    "fitAustralia <- lm(formula = ClimateCountryAustralia$AverageTemperature ~ ClimateCountryAustralia$Year, data = ClimateCountryAustralia)\n",
    "fitChina <- lm(formula = ClimateCountryChina$AverageTemperature ~ ClimateCountryChina$Year, data = ClimateCountryChina)"
   ]
  },
  {
   "cell_type": "markdown",
   "metadata": {},
   "source": [
    "The first two plots for **Denmark** and **India** are plotted with the _ggplot_ command `geom_smooth(method = \"lm\", se = FALSE)` and the second two plots for **Australia** and **China** are plotted with the linear regression model we calculated."
   ]
  },
  {
   "cell_type": "code",
   "execution_count": 25,
   "metadata": {
    "scrolled": false
   },
   "outputs": [
    {
     "data": {
      "image/png": "[encoded data removed]",
      "text/plain": [
       "plot without title"
      ]
     },
     "metadata": {},
     "output_type": "display_data"
    },
    {
     "data": {
      "image/png": "[encoded data removed]",
      "text/plain": [
       "plot without title"
      ]
     },
     "metadata": {},
     "output_type": "display_data"
    }
   ],
   "source": [
    "plotDen <- ggplot(data = ClimateCountryDenmark %>% filter(Year==1750| Year==1800 | Year==1850 | Year==1900 | Year==1950 | Year==2000 | Year==2014), mapping = aes(x = Year, y = AverageTemperature)) + geom_point() +\n",
    "# geom_line(aes(x = Year, y = 0.009106 * Year + (-35.516292)), color = \"red\") + ggtitle(\"Denmark\")\n",
    "geom_smooth(method = \"lm\", se = FALSE) +  ggtitle(\"Denmark\") + \n",
    "geom_segment(data = cbind(ClimateCountryDenmark, pred=predict(fitDenmark, ClimateCountryDenmark)), aes(yend = pred, xend = Year), color = \"red\")\n",
    "\n",
    "plotInd <- ggplot(data = ClimateCountryIndia %>% filter(Year==1750| Year==1800 | Year==1850 | Year==1900 | Year==1950 | Year==2000 | Year==2014), mapping = aes(x = Year, y = AverageTemperature)) + geom_point() +\n",
    "# geom_line(aes(x = Year, y = 0.005636 * Year + 13.122999), color = \"red\") + ggtitle(\"India\")\n",
    "geom_smooth(method = \"lm\", se = FALSE) +  ggtitle(\"India\") + \n",
    "geom_segment(data = cbind(ClimateCountryIndia, pred=predict(fitIndia, ClimateCountryIndia)), aes(yend = pred, xend = Year), color = \"red\")\n",
    "\n",
    "grid.arrange(plotDen, plotInd, nrow=1, ncol=2)\n",
    "\n",
    "plotAus <- ggplot(data = ClimateCountryAustralia %>% filter(Year==1750| Year==1800 | Year==1850 | Year==1900 | Year==1950 | Year==2000 | Year==2014), mapping = aes(x = Year, y = AverageTemperature)) + geom_point() +\n",
    "geom_line(aes(x = Year, y = 0.00643 * Year + 9.19634), color = \"red\") + ggtitle(\"Australia\")\n",
    "# geom_smooth(method = \"lm\", se = FALSE) +  ggtitle(\"Australia\") + \n",
    "# geom_segment(data = cbind(ClimateCountryAustralia, pred=predict(fitAustralia, ClimateCountryAustralia)), aes(yend = pred, xend = Year), color = \"red\")\n",
    "\n",
    "plotChi <- ggplot(data = ClimateCountryChina %>% filter(Year==1750| Year==1800 | Year==1850 | Year==1900 | Year==1950 | Year==2000 | Year==2014), mapping = aes(x = Year, y = AverageTemperature)) + geom_point() +\n",
    "geom_line(aes(x = Year, y = 0.008011 * Year + (-8.778801)), color = \"red\") + ggtitle(\"China\")\n",
    "# geom_smooth(method = \"lm\", se = FALSE) +  ggtitle(\"China\") + \n",
    "# geom_segment(data = cbind(ClimateCountryChina, pred=predict(fitChina, ClimateCountryChina)), aes(yend = pred, xend = Year), color = \"red\")\n",
    "\n",
    "grid.arrange(plotAus, plotChi, nrow=1, ncol=2)\n"
   ]
  },
  {
   "cell_type": "markdown",
   "metadata": {},
   "source": [
    "## 10. Model predictions and errors\n",
    "Now that we have a model, we can use it to predict new values of the response variable from values of the predictor variables."
   ]
  },
  {
   "cell_type": "markdown",
   "metadata": {},
   "source": [
    "### Denmark `AverageTemperature` predictions for 2020, 2050 and 2100"
   ]
  },
  {
   "cell_type": "code",
   "execution_count": 26,
   "metadata": {
    "scrolled": false
   },
   "outputs": [
    {
     "data": {
      "text/html": [
       "<table>\n",
       "<thead><tr><th scope=col>fit</th><th scope=col>lwr</th><th scope=col>upr</th></tr></thead>\n",
       "<tbody>\n",
       "\t<tr><td>-17.12276</td><td>-38.20798</td><td>3.962464 </td></tr>\n",
       "\t<tr><td>-16.84958</td><td>-37.94547</td><td>4.246304 </td></tr>\n",
       "\t<tr><td>-16.39430</td><td>-37.51402</td><td>4.725422 </td></tr>\n",
       "</tbody>\n",
       "</table>\n"
      ],
      "text/latex": [
       "\\begin{tabular}{r|lll}\n",
       " fit & lwr & upr\\\\\n",
       "\\hline\n",
       "\t -17.12276 & -38.20798 & 3.962464 \\\\\n",
       "\t -16.84958 & -37.94547 & 4.246304 \\\\\n",
       "\t -16.39430 & -37.51402 & 4.725422 \\\\\n",
       "\\end{tabular}\n"
      ],
      "text/markdown": [
       "\n",
       "| fit | lwr | upr |\n",
       "|---|---|---|\n",
       "| -17.12276 | -38.20798 | 3.962464  |\n",
       "| -16.84958 | -37.94547 | 4.246304  |\n",
       "| -16.39430 | -37.51402 | 4.725422  |\n",
       "\n"
      ],
      "text/plain": [
       "  fit       lwr       upr     \n",
       "1 -17.12276 -38.20798 3.962464\n",
       "2 -16.84958 -37.94547 4.246304\n",
       "3 -16.39430 -37.51402 4.725422"
      ]
     },
     "metadata": {},
     "output_type": "display_data"
    }
   ],
   "source": [
    "modelDK <- lm(formula = AverageTemperature ~ Year, data = ClimateCountryDenmark)\n",
    "newdata <- data.frame(Year = c(2020, 2050, 2100))\n",
    "predict.lm(modelDK, newdata, interval = \"predict\")"
   ]
  },
  {
   "cell_type": "markdown",
   "metadata": {},
   "source": [
    "The `fit` is the predicted values of `AverageTemperature` for the years 2020, 2050 and 2100 For Denmark.\n",
    "The `lwr` and `upr` represent the lower and upper bounds of a 95% confidence interval of the prediction.\n",
    "\n",
    "Next, let make predictions of `AverageTemperature` for **India**, **Australia** and **China** for the years 2020, 2050 and 2100."
   ]
  },
  {
   "cell_type": "markdown",
   "metadata": {},
   "source": [
    "### India `AverageTemperature` predictions for 2020, 2050 and 2100"
   ]
  },
  {
   "cell_type": "code",
   "execution_count": 27,
   "metadata": {},
   "outputs": [
    {
     "data": {
      "text/html": [
       "<table>\n",
       "<thead><tr><th scope=col>fit</th><th scope=col>lwr</th><th scope=col>upr</th></tr></thead>\n",
       "<tbody>\n",
       "\t<tr><td>24.50750</td><td>16.04362</td><td>32.97139</td></tr>\n",
       "\t<tr><td>24.67658</td><td>16.20933</td><td>33.14383</td></tr>\n",
       "\t<tr><td>24.95838</td><td>16.48376</td><td>33.43300</td></tr>\n",
       "</tbody>\n",
       "</table>\n"
      ],
      "text/latex": [
       "\\begin{tabular}{r|lll}\n",
       " fit & lwr & upr\\\\\n",
       "\\hline\n",
       "\t 24.50750 & 16.04362 & 32.97139\\\\\n",
       "\t 24.67658 & 16.20933 & 33.14383\\\\\n",
       "\t 24.95838 & 16.48376 & 33.43300\\\\\n",
       "\\end{tabular}\n"
      ],
      "text/markdown": [
       "\n",
       "| fit | lwr | upr |\n",
       "|---|---|---|\n",
       "| 24.50750 | 16.04362 | 32.97139 |\n",
       "| 24.67658 | 16.20933 | 33.14383 |\n",
       "| 24.95838 | 16.48376 | 33.43300 |\n",
       "\n"
      ],
      "text/plain": [
       "  fit      lwr      upr     \n",
       "1 24.50750 16.04362 32.97139\n",
       "2 24.67658 16.20933 33.14383\n",
       "3 24.95838 16.48376 33.43300"
      ]
     },
     "metadata": {},
     "output_type": "display_data"
    }
   ],
   "source": [
    "modelIN <- lm(formula = AverageTemperature ~ Year, data = ClimateCountryIndia)\n",
    "newdata <- data.frame(Year = c(2020, 2050, 2100))\n",
    "predict.lm(modelIN, newdata, interval = \"predict\")"
   ]
  },
  {
   "cell_type": "markdown",
   "metadata": {},
   "source": [
    "### Australia `AverageTemperature` predictions for 2020, 2050 and 2100"
   ]
  },
  {
   "cell_type": "code",
   "execution_count": 28,
   "metadata": {},
   "outputs": [
    {
     "data": {
      "text/html": [
       "<table>\n",
       "<thead><tr><th scope=col>fit</th><th scope=col>lwr</th><th scope=col>upr</th></tr></thead>\n",
       "<tbody>\n",
       "\t<tr><td>22.18578</td><td>12.59439</td><td>31.77717</td></tr>\n",
       "\t<tr><td>22.37869</td><td>12.78025</td><td>31.97713</td></tr>\n",
       "\t<tr><td>22.70021</td><td>13.08544</td><td>32.31498</td></tr>\n",
       "</tbody>\n",
       "</table>\n"
      ],
      "text/latex": [
       "\\begin{tabular}{r|lll}\n",
       " fit & lwr & upr\\\\\n",
       "\\hline\n",
       "\t 22.18578 & 12.59439 & 31.77717\\\\\n",
       "\t 22.37869 & 12.78025 & 31.97713\\\\\n",
       "\t 22.70021 & 13.08544 & 32.31498\\\\\n",
       "\\end{tabular}\n"
      ],
      "text/markdown": [
       "\n",
       "| fit | lwr | upr |\n",
       "|---|---|---|\n",
       "| 22.18578 | 12.59439 | 31.77717 |\n",
       "| 22.37869 | 12.78025 | 31.97713 |\n",
       "| 22.70021 | 13.08544 | 32.31498 |\n",
       "\n"
      ],
      "text/plain": [
       "  fit      lwr      upr     \n",
       "1 22.18578 12.59439 31.77717\n",
       "2 22.37869 12.78025 31.97713\n",
       "3 22.70021 13.08544 32.31498"
      ]
     },
     "metadata": {},
     "output_type": "display_data"
    }
   ],
   "source": [
    "modelAU <- lm(formula = AverageTemperature ~ Year, data = ClimateCountryAustralia)\n",
    "newdata <- data.frame(Year = c(2020, 2050, 2100))\n",
    "predict.lm(modelAU, newdata, interval = \"predict\")"
   ]
  },
  {
   "cell_type": "markdown",
   "metadata": {},
   "source": [
    "### China `AverageTemperature` predictions for 2020, 2050 and 2100"
   ]
  },
  {
   "cell_type": "code",
   "execution_count": 29,
   "metadata": {},
   "outputs": [
    {
     "data": {
      "text/html": [
       "<table>\n",
       "<thead><tr><th scope=col>fit</th><th scope=col>lwr</th><th scope=col>upr</th></tr></thead>\n",
       "<tbody>\n",
       "\t<tr><td>7.403670 </td><td>-12.11389</td><td>26.92124 </td></tr>\n",
       "\t<tr><td>7.644004 </td><td>-11.88419</td><td>27.17220 </td></tr>\n",
       "\t<tr><td>8.044560 </td><td>-11.50757</td><td>27.59669 </td></tr>\n",
       "</tbody>\n",
       "</table>\n"
      ],
      "text/latex": [
       "\\begin{tabular}{r|lll}\n",
       " fit & lwr & upr\\\\\n",
       "\\hline\n",
       "\t 7.403670  & -12.11389 & 26.92124 \\\\\n",
       "\t 7.644004  & -11.88419 & 27.17220 \\\\\n",
       "\t 8.044560  & -11.50757 & 27.59669 \\\\\n",
       "\\end{tabular}\n"
      ],
      "text/markdown": [
       "\n",
       "| fit | lwr | upr |\n",
       "|---|---|---|\n",
       "| 7.403670  | -12.11389 | 26.92124  |\n",
       "| 7.644004  | -11.88419 | 27.17220  |\n",
       "| 8.044560  | -11.50757 | 27.59669  |\n",
       "\n"
      ],
      "text/plain": [
       "  fit      lwr       upr     \n",
       "1 7.403670 -12.11389 26.92124\n",
       "2 7.644004 -11.88419 27.17220\n",
       "3 8.044560 -11.50757 27.59669"
      ]
     },
     "metadata": {},
     "output_type": "display_data"
    }
   ],
   "source": [
    "modelCN <- lm(formula = AverageTemperature ~ Year, data = ClimateCountryChina)\n",
    "newdata <- data.frame(Year = c(2020, 2050, 2100))\n",
    "predict.lm(modelCN, newdata, interval = \"predict\")"
   ]
  },
  {
   "cell_type": "markdown",
   "metadata": {},
   "source": [
    "### 10.1. Residuals\n",
    "\n",
    "Residuals are the difference between the real values of the response variable and the predicted values of the response variable. In other words, the residuals of a model are the errors in predicting on the data used to train the model. Residuals plays an important role in statistics.\n",
    "\n",
    "Visually, residuals are the vertical distance between the line (the predicted values) and the points in the plot.\n",
    "\n",
    "_**Reader's note:** I was unable to filter data by year intervals so the residual plots is hard to make sense of._"
   ]
  },
  {
   "cell_type": "code",
   "execution_count": 30,
   "metadata": {
    "scrolled": true
   },
   "outputs": [
    {
     "data": {
      "image/png": "[encoded data removed]",
      "text/plain": [
       "plot without title"
      ]
     },
     "metadata": {},
     "output_type": "display_data"
    },
    {
     "data": {
      "image/png": "[encoded data removed]",
      "text/plain": [
       "plot without title"
      ]
     },
     "metadata": {},
     "output_type": "display_data"
    }
   ],
   "source": [
    "fitDK <- lm(AverageTemperature ~ Year, ClimateCountryDenmark)\n",
    "gpDK <- ggplot(data = ClimateCountryDenmark, mapping = aes(x = Year, y = AverageTemperature)) +\n",
    "  geom_point() + geom_smooth(method = \"lm\", se = FALSE) +  ggtitle(\"Denmark\") +\n",
    "  geom_segment(data = cbind(ClimateCountryDenmark, pred=predict(fitDK, ClimateCountryDenmark)), aes(yend = pred, xend = Year), color = \"pink\")\n",
    "\n",
    "fitIN <- lm(AverageTemperature ~ Year, ClimateCountryIndia)\n",
    "gpIN <- ggplot(data = ClimateCountryIndia, mapping = aes(x = Year, y = AverageTemperature)) +\n",
    "  geom_point() + geom_smooth(method = \"lm\", se = FALSE) +  ggtitle(\"India\")  +\n",
    "  geom_segment(data = cbind(ClimateCountryIndia, pred=predict(fitIN, ClimateCountryIndia)), aes(yend = pred, xend = Year), color = \"pink\")\n",
    "\n",
    "grid.arrange(gpDK, gpIN, nrow=1, ncol=2)\n",
    "\n",
    "fitAU <- lm(AverageTemperature ~ Year, ClimateCountryAustralia)\n",
    "gpAU <- ggplot(data = ClimateCountryAustralia, mapping = aes(x = Year, y = AverageTemperature)) +\n",
    "  geom_point() + geom_smooth(method = \"lm\", se = FALSE) +  ggtitle(\"Australia\")  +\n",
    "  geom_segment(data = cbind(ClimateCountryAustralia, pred=predict(fitAU, ClimateCountryAustralia)), aes(yend = pred, xend = Year), color = \"pink\")\n",
    "\n",
    "fitCN <- lm(AverageTemperature ~ Year, ClimateCountryChina)\n",
    "gpCN <- ggplot(data = ClimateCountryChina, mapping = aes(x = Year, y = AverageTemperature)) +\n",
    "  geom_point() + geom_smooth(method = \"lm\", se = FALSE) +  ggtitle(\"China\")  +\n",
    "  geom_segment(data = cbind(ClimateCountryChina, pred=predict(fitCN, ClimateCountryChina)), aes(yend = pred, xend = Year), color = \"pink\")\n",
    "\n",
    "grid.arrange(gpAU, gpCN, nrow=1, ncol=2)\n"
   ]
  },
  {
   "cell_type": "markdown",
   "metadata": {},
   "source": [
    "Since the residuals is hard to understand from the above plot, we can calculate them and provide them in a list for easy readability.\n",
    "\n",
    "_Remove `tail` if you want output to include the whole table_"
   ]
  },
  {
   "cell_type": "markdown",
   "metadata": {},
   "source": [
    "### Denmark"
   ]
  },
  {
   "cell_type": "code",
   "execution_count": 31,
   "metadata": {
    "scrolled": true
   },
   "outputs": [
    {
     "data": {
      "text/html": [
       "<table>\n",
       "<thead><tr><th></th><th scope=col>Year</th><th scope=col>actual_avg_tmp_monthly</th><th scope=col>predicted_avg_tmp_monthly</th><th scope=col>residuals</th></tr></thead>\n",
       "<tbody>\n",
       "\t<tr><th scope=row>2284</th><td>2013      </td><td>-20.195   </td><td>-17.1865  </td><td>  3.008504</td></tr>\n",
       "\t<tr><th scope=row>2285</th><td>2013      </td><td>-12.048   </td><td>-17.1865  </td><td> -5.138496</td></tr>\n",
       "\t<tr><th scope=row>2286</th><td>2013      </td><td> -3.101   </td><td>-17.1865  </td><td>-14.085496</td></tr>\n",
       "\t<tr><th scope=row>2287</th><td>2013      </td><td> -0.900   </td><td>-17.1865  </td><td>-16.286496</td></tr>\n",
       "\t<tr><th scope=row>2288</th><td>2013      </td><td> -3.782   </td><td>-17.1865  </td><td>-13.404496</td></tr>\n",
       "\t<tr><th scope=row>2289</th><td>2013      </td><td>     NA   </td><td>-17.1865  </td><td>        NA</td></tr>\n",
       "</tbody>\n",
       "</table>\n"
      ],
      "text/latex": [
       "\\begin{tabular}{r|llll}\n",
       "  & Year & actual\\_avg\\_tmp\\_monthly & predicted\\_avg\\_tmp\\_monthly & residuals\\\\\n",
       "\\hline\n",
       "\t2284 & 2013       & -20.195    & -17.1865   &   3.008504\\\\\n",
       "\t2285 & 2013       & -12.048    & -17.1865   &  -5.138496\\\\\n",
       "\t2286 & 2013       &  -3.101    & -17.1865   & -14.085496\\\\\n",
       "\t2287 & 2013       &  -0.900    & -17.1865   & -16.286496\\\\\n",
       "\t2288 & 2013       &  -3.782    & -17.1865   & -13.404496\\\\\n",
       "\t2289 & 2013       &      NA    & -17.1865   &         NA\\\\\n",
       "\\end{tabular}\n"
      ],
      "text/markdown": [
       "\n",
       "| <!--/--> | Year | actual_avg_tmp_monthly | predicted_avg_tmp_monthly | residuals |\n",
       "|---|---|---|---|---|\n",
       "| 2284 | 2013       | -20.195    | -17.1865   |   3.008504 |\n",
       "| 2285 | 2013       | -12.048    | -17.1865   |  -5.138496 |\n",
       "| 2286 | 2013       |  -3.101    | -17.1865   | -14.085496 |\n",
       "| 2287 | 2013       |  -0.900    | -17.1865   | -16.286496 |\n",
       "| 2288 | 2013       |  -3.782    | -17.1865   | -13.404496 |\n",
       "| 2289 | 2013       |      NA    | -17.1865   |         NA |\n",
       "\n"
      ],
      "text/plain": [
       "     Year actual_avg_tmp_monthly predicted_avg_tmp_monthly residuals \n",
       "2284 2013 -20.195                -17.1865                    3.008504\n",
       "2285 2013 -12.048                -17.1865                   -5.138496\n",
       "2286 2013  -3.101                -17.1865                  -14.085496\n",
       "2287 2013  -0.900                -17.1865                  -16.286496\n",
       "2288 2013  -3.782                -17.1865                  -13.404496\n",
       "2289 2013      NA                -17.1865                          NA"
      ]
     },
     "metadata": {},
     "output_type": "display_data"
    }
   ],
   "source": [
    "tail(data.frame(Year = ClimateCountryDenmark$Year, actual_avg_tmp_monthly = ClimateCountryDenmark$AverageTemperature, predicted_avg_tmp_monthly = predict(fitDK, ClimateCountryDenmark)) %>%\n",
    "    mutate(residuals = predicted_avg_tmp_monthly - actual_avg_tmp_monthly))"
   ]
  },
  {
   "cell_type": "markdown",
   "metadata": {},
   "source": [
    "### India"
   ]
  },
  {
   "cell_type": "code",
   "execution_count": 32,
   "metadata": {},
   "outputs": [
    {
     "data": {
      "text/html": [
       "<table>\n",
       "<thead><tr><th></th><th scope=col>Year</th><th scope=col>actual_avg_tmp_monthly</th><th scope=col>predicted_avg_tmp_monthly</th><th scope=col>residuals</th></tr></thead>\n",
       "<tbody>\n",
       "\t<tr><th scope=row>2608</th><td>2013     </td><td>27.981   </td><td>24.46805 </td><td>-3.512947</td></tr>\n",
       "\t<tr><th scope=row>2609</th><td>2013     </td><td>31.014   </td><td>24.46805 </td><td>-6.545947</td></tr>\n",
       "\t<tr><th scope=row>2610</th><td>2013     </td><td>28.766   </td><td>24.46805 </td><td>-4.297947</td></tr>\n",
       "\t<tr><th scope=row>2611</th><td>2013     </td><td>27.012   </td><td>24.46805 </td><td>-2.543947</td></tr>\n",
       "\t<tr><th scope=row>2612</th><td>2013     </td><td>26.555   </td><td>24.46805 </td><td>-2.086947</td></tr>\n",
       "\t<tr><th scope=row>2613</th><td>2013     </td><td>    NA   </td><td>24.46805 </td><td>       NA</td></tr>\n",
       "</tbody>\n",
       "</table>\n"
      ],
      "text/latex": [
       "\\begin{tabular}{r|llll}\n",
       "  & Year & actual\\_avg\\_tmp\\_monthly & predicted\\_avg\\_tmp\\_monthly & residuals\\\\\n",
       "\\hline\n",
       "\t2608 & 2013      & 27.981    & 24.46805  & -3.512947\\\\\n",
       "\t2609 & 2013      & 31.014    & 24.46805  & -6.545947\\\\\n",
       "\t2610 & 2013      & 28.766    & 24.46805  & -4.297947\\\\\n",
       "\t2611 & 2013      & 27.012    & 24.46805  & -2.543947\\\\\n",
       "\t2612 & 2013      & 26.555    & 24.46805  & -2.086947\\\\\n",
       "\t2613 & 2013      &     NA    & 24.46805  &        NA\\\\\n",
       "\\end{tabular}\n"
      ],
      "text/markdown": [
       "\n",
       "| <!--/--> | Year | actual_avg_tmp_monthly | predicted_avg_tmp_monthly | residuals |\n",
       "|---|---|---|---|---|\n",
       "| 2608 | 2013      | 27.981    | 24.46805  | -3.512947 |\n",
       "| 2609 | 2013      | 31.014    | 24.46805  | -6.545947 |\n",
       "| 2610 | 2013      | 28.766    | 24.46805  | -4.297947 |\n",
       "| 2611 | 2013      | 27.012    | 24.46805  | -2.543947 |\n",
       "| 2612 | 2013      | 26.555    | 24.46805  | -2.086947 |\n",
       "| 2613 | 2013      |     NA    | 24.46805  |        NA |\n",
       "\n"
      ],
      "text/plain": [
       "     Year actual_avg_tmp_monthly predicted_avg_tmp_monthly residuals\n",
       "2608 2013 27.981                 24.46805                  -3.512947\n",
       "2609 2013 31.014                 24.46805                  -6.545947\n",
       "2610 2013 28.766                 24.46805                  -4.297947\n",
       "2611 2013 27.012                 24.46805                  -2.543947\n",
       "2612 2013 26.555                 24.46805                  -2.086947\n",
       "2613 2013     NA                 24.46805                         NA"
      ]
     },
     "metadata": {},
     "output_type": "display_data"
    }
   ],
   "source": [
    "tail(data.frame(Year = ClimateCountryIndia$Year, actual_avg_tmp_monthly = ClimateCountryIndia$AverageTemperature, predicted_avg_tmp_monthly = predict(fitIN, ClimateCountryIndia)) %>%\n",
    "    mutate(residuals = predicted_avg_tmp_monthly - actual_avg_tmp_monthly))"
   ]
  },
  {
   "cell_type": "markdown",
   "metadata": {},
   "source": [
    "### Australia"
   ]
  },
  {
   "cell_type": "code",
   "execution_count": 33,
   "metadata": {},
   "outputs": [
    {
     "data": {
      "text/html": [
       "<table>\n",
       "<thead><tr><th></th><th scope=col>Year</th><th scope=col>actual_avg_tmp_monthly</th><th scope=col>predicted_avg_tmp_monthly</th><th scope=col>residuals</th></tr></thead>\n",
       "<tbody>\n",
       "\t<tr><th scope=row>1930</th><td>2013     </td><td>23.305   </td><td>22.14077 </td><td>-1.164234</td></tr>\n",
       "\t<tr><th scope=row>1931</th><td>2013     </td><td>19.377   </td><td>22.14077 </td><td> 2.763766</td></tr>\n",
       "\t<tr><th scope=row>1932</th><td>2013     </td><td>16.018   </td><td>22.14077 </td><td> 6.122766</td></tr>\n",
       "\t<tr><th scope=row>1933</th><td>2013     </td><td>15.933   </td><td>22.14077 </td><td> 6.207766</td></tr>\n",
       "\t<tr><th scope=row>1934</th><td>2013     </td><td>17.748   </td><td>22.14077 </td><td> 4.392766</td></tr>\n",
       "\t<tr><th scope=row>1935</th><td>2013     </td><td>    NA   </td><td>22.14077 </td><td>       NA</td></tr>\n",
       "</tbody>\n",
       "</table>\n"
      ],
      "text/latex": [
       "\\begin{tabular}{r|llll}\n",
       "  & Year & actual\\_avg\\_tmp\\_monthly & predicted\\_avg\\_tmp\\_monthly & residuals\\\\\n",
       "\\hline\n",
       "\t1930 & 2013      & 23.305    & 22.14077  & -1.164234\\\\\n",
       "\t1931 & 2013      & 19.377    & 22.14077  &  2.763766\\\\\n",
       "\t1932 & 2013      & 16.018    & 22.14077  &  6.122766\\\\\n",
       "\t1933 & 2013      & 15.933    & 22.14077  &  6.207766\\\\\n",
       "\t1934 & 2013      & 17.748    & 22.14077  &  4.392766\\\\\n",
       "\t1935 & 2013      &     NA    & 22.14077  &        NA\\\\\n",
       "\\end{tabular}\n"
      ],
      "text/markdown": [
       "\n",
       "| <!--/--> | Year | actual_avg_tmp_monthly | predicted_avg_tmp_monthly | residuals |\n",
       "|---|---|---|---|---|\n",
       "| 1930 | 2013      | 23.305    | 22.14077  | -1.164234 |\n",
       "| 1931 | 2013      | 19.377    | 22.14077  |  2.763766 |\n",
       "| 1932 | 2013      | 16.018    | 22.14077  |  6.122766 |\n",
       "| 1933 | 2013      | 15.933    | 22.14077  |  6.207766 |\n",
       "| 1934 | 2013      | 17.748    | 22.14077  |  4.392766 |\n",
       "| 1935 | 2013      |     NA    | 22.14077  |        NA |\n",
       "\n"
      ],
      "text/plain": [
       "     Year actual_avg_tmp_monthly predicted_avg_tmp_monthly residuals\n",
       "1930 2013 23.305                 22.14077                  -1.164234\n",
       "1931 2013 19.377                 22.14077                   2.763766\n",
       "1932 2013 16.018                 22.14077                   6.122766\n",
       "1933 2013 15.933                 22.14077                   6.207766\n",
       "1934 2013 17.748                 22.14077                   4.392766\n",
       "1935 2013     NA                 22.14077                         NA"
      ]
     },
     "metadata": {},
     "output_type": "display_data"
    }
   ],
   "source": [
    "tail(data.frame(Year = ClimateCountryAustralia$Year, actual_avg_tmp_monthly = ClimateCountryAustralia$AverageTemperature, predicted_avg_tmp_monthly = predict(fitAU, ClimateCountryAustralia)) %>%\n",
    "    mutate(residuals = predicted_avg_tmp_monthly - actual_avg_tmp_monthly))"
   ]
  },
  {
   "cell_type": "markdown",
   "metadata": {},
   "source": [
    "### China"
   ]
  },
  {
   "cell_type": "code",
   "execution_count": 34,
   "metadata": {
    "scrolled": true
   },
   "outputs": [
    {
     "data": {
      "text/html": [
       "<table>\n",
       "<thead><tr><th></th><th scope=col>Year</th><th scope=col>actual_avg_tmp_monthly</th><th scope=col>predicted_avg_tmp_monthly</th><th scope=col>residuals</th></tr></thead>\n",
       "<tbody>\n",
       "\t<tr><th scope=row>2313</th><td>2013      </td><td> 8.577    </td><td>7.347592  </td><td> -1.229408</td></tr>\n",
       "\t<tr><th scope=row>2314</th><td>2013      </td><td>14.824    </td><td>7.347592  </td><td> -7.476408</td></tr>\n",
       "\t<tr><th scope=row>2315</th><td>2013      </td><td>18.636    </td><td>7.347592  </td><td>-11.288408</td></tr>\n",
       "\t<tr><th scope=row>2316</th><td>2013      </td><td>20.482    </td><td>7.347592  </td><td>-13.134408</td></tr>\n",
       "\t<tr><th scope=row>2317</th><td>2013      </td><td>19.971    </td><td>7.347592  </td><td>-12.623408</td></tr>\n",
       "\t<tr><th scope=row>2318</th><td>2013      </td><td>    NA    </td><td>7.347592  </td><td>        NA</td></tr>\n",
       "</tbody>\n",
       "</table>\n"
      ],
      "text/latex": [
       "\\begin{tabular}{r|llll}\n",
       "  & Year & actual\\_avg\\_tmp\\_monthly & predicted\\_avg\\_tmp\\_monthly & residuals\\\\\n",
       "\\hline\n",
       "\t2313 & 2013       &  8.577     & 7.347592   &  -1.229408\\\\\n",
       "\t2314 & 2013       & 14.824     & 7.347592   &  -7.476408\\\\\n",
       "\t2315 & 2013       & 18.636     & 7.347592   & -11.288408\\\\\n",
       "\t2316 & 2013       & 20.482     & 7.347592   & -13.134408\\\\\n",
       "\t2317 & 2013       & 19.971     & 7.347592   & -12.623408\\\\\n",
       "\t2318 & 2013       &     NA     & 7.347592   &         NA\\\\\n",
       "\\end{tabular}\n"
      ],
      "text/markdown": [
       "\n",
       "| <!--/--> | Year | actual_avg_tmp_monthly | predicted_avg_tmp_monthly | residuals |\n",
       "|---|---|---|---|---|\n",
       "| 2313 | 2013       |  8.577     | 7.347592   |  -1.229408 |\n",
       "| 2314 | 2013       | 14.824     | 7.347592   |  -7.476408 |\n",
       "| 2315 | 2013       | 18.636     | 7.347592   | -11.288408 |\n",
       "| 2316 | 2013       | 20.482     | 7.347592   | -13.134408 |\n",
       "| 2317 | 2013       | 19.971     | 7.347592   | -12.623408 |\n",
       "| 2318 | 2013       |     NA     | 7.347592   |         NA |\n",
       "\n"
      ],
      "text/plain": [
       "     Year actual_avg_tmp_monthly predicted_avg_tmp_monthly residuals \n",
       "2313 2013  8.577                 7.347592                   -1.229408\n",
       "2314 2013 14.824                 7.347592                   -7.476408\n",
       "2315 2013 18.636                 7.347592                  -11.288408\n",
       "2316 2013 20.482                 7.347592                  -13.134408\n",
       "2317 2013 19.971                 7.347592                  -12.623408\n",
       "2318 2013     NA                 7.347592                          NA"
      ]
     },
     "metadata": {},
     "output_type": "display_data"
    }
   ],
   "source": [
    "tail(data.frame(Year = ClimateCountryChina$Year, actual_avg_tmp_monthly = ClimateCountryChina$AverageTemperature, predicted_avg_tmp_monthly = predict(fitCN, ClimateCountryChina)) %>%\n",
    "    mutate(residuals = predicted_avg_tmp_monthly - actual_avg_tmp_monthly))"
   ]
  },
  {
   "cell_type": "markdown",
   "metadata": {},
   "source": [
    "## 11. Conclusion of the analysis \n",
    "\n",
    "As we have explored the data of average temperatures of 4 different countries, from 3 different continents, we can safely conclude that the climate change is in full effect. We chose Denmark, India, Australia and China as they all have different properties, economics and history, hoping to analyze how those properties affected the likelihood of climate change. Using the data from the past, it clearly shows the rise in average temperature throughout. Also with the use of linear regression, the prediction is that the rise in temperature will keep on increasing based on data. This data is what we have and this data is powerful to show what human activities and development has done to worsen the environment we live in. I agree, this is not the first time someone has proved climate change is happening with data and this won't be the last either. Nevertheless, the people \"responsible\" for the general public seem to dismiss these real effects as hoax and \"fake news\". With the power of data, we proved the temperature has been rising as they years passed by and with the help of linear regression model, we know it will continue to increase and worsen the situation if nothing is done."
   ]
  },
  {
   "cell_type": "markdown",
   "metadata": {},
   "source": [
    "## 12. Big data and storage\n",
    "\n",
    "The size of the original data set is 573 megabytes but the actual dataset used for this analysis is merely 22 megabytes. As the original dataset contains multiple files with datasets going deeper into individual cities, the size did add up. But even with temperature data for individual cities for the entire world starting from the year 1750, the storage is not really an issue as 573 megabytes is merely a drop in the ocean, especially as the cost for storage is very cheap in the current day.\n",
    "\n",
    "As for database vs data warehouse, a data warehouse would be an ideal solution in this use case. As database is more for realtime data, and our data isn't and doesn't have to be real time. It is not time critical. A data warehouse can centrally house this data as the sources are from around the world. Berkeley Earth states they have 16 data sources. [Source](http://berkeleyearth.org/faq/#question-13)"
   ]
  },
  {
   "cell_type": "markdown",
   "metadata": {},
   "source": [
    "## 13. Reflection on ethical and legal issues\n",
    "The data used for this analysis is provided by [Berkeley Earth](http://berkeleyearth.org/), whose goal is to address the major concerns of skeptics regarding global warming and the land surface temperature record. [Source](http://berkeleyearth.org/faq/#question-0)\n",
    "\n",
    "Their reuse policy states:\n",
    "> The authors of the material available on the Berkeley Earth website (www.berkeleyearth.org) grant permission (free of charge) to authors, readers and third parties to reproduce their materials as part of another publication or entity with proper sourcing to Berkeley Earth and by additionally providing a link to the Berkeley Earth website ( http://www.berkeleyearth.org )\n",
    "\n",
    "With the free to use policy, anyone and everyone can use scientifically measured, reliable temperature records of countries and cities around the world starting from 1750 without giving a thought about legal issues. Also, since no personal data is stored  (besides that of Mother Earth), GDPR practices can be washed away, just like the polar bears' homes."
   ]
  }
 ],
 "metadata": {
  "kernelspec": {
   "display_name": "R",
   "language": "R",
   "name": "ir"
  },
  "language_info": {
   "codemirror_mode": "r",
   "file_extension": ".r",
   "mimetype": "text/x-r-source",
   "name": "R",
   "pygments_lexer": "r",
   "version": "3.6.1"
  }
 },
 "nbformat": 4,
 "nbformat_minor": 2
}
